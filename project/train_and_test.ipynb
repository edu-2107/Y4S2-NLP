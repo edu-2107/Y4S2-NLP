{
 "cells": [
  {
   "cell_type": "code",
   "execution_count": null,
   "id": "afe73b89",
   "metadata": {},
   "outputs": [],
   "source": [
    "import pandas as pd\n",
    "from sklearn.model_selection import train_test_split\n",
    "\n",
    "df = pd.read_csv('complaints_preprocessed.csv')\n",
    "\n",
    "# Split the dataset (80% training, 20% testing)\n",
    "train_df, test_df = train_test_split(df, test_size=0.2, random_state=42, stratify=df['Target'])\n",
    "\n",
    "print(train_df['narrative'].isna().sum())  # Check NaN count in train set\n",
    "print(test_df['narrative'].isna().sum())   # Check NaN count in test set\n",
    "\n",
    "train_df['narrative'] = train_df['narrative'].fillna(\"\")\n",
    "test_df['narrative'] = test_df['narrative'].fillna(\"\")\n",
    "\n",
    "# Separate features (X) and target labels (y)\n",
    "X_train, y_train = train_df['narrative'], train_df['Target']\n",
    "X_test, y_test = test_df['narrative'], test_df['Target']"
   ]
  },
  {
   "cell_type": "code",
   "execution_count": null,
   "id": "8eff0639",
   "metadata": {},
   "outputs": [],
   "source": [
    "from sklearn.feature_extraction.text import TfidfVectorizer\n",
    "\n",
    "# Convert text to TF-IDF features\n",
    "tfidf = TfidfVectorizer(max_features=5000)  # Limit to 5000 words\n",
    "X_train_tfidf = tfidf.fit_transform(X_train)\n",
    "X_test_tfidf = tfidf.transform(X_test)"
   ]
  },
  {
   "cell_type": "code",
   "execution_count": null,
   "id": "cb5d84dd",
   "metadata": {},
   "outputs": [],
   "source": [
    "from sklearn.metrics import accuracy_score, classification_report\n",
    "from sklearn.linear_model import LogisticRegression\n",
    "from sklearn.naive_bayes import MultinomialNB\n",
    "from sklearn.svm import SVC\n",
    "from sklearn.ensemble import RandomForestClassifier\n",
    "from sklearn.neighbors import KNeighborsClassifier\n",
    "\n",
    "# Initialize models\n",
    "models = {\n",
    "    \"Logistic Regression\": LogisticRegression(),\n",
    "    \"Naive Bayes\": MultinomialNB(),\n",
    "    \"Support Vector Machine\": SVC(),\n",
    "    \"Random Forest\": RandomForestClassifier(n_estimators=100, random_state=42),\n",
    "    \"K-Nearest Neighbors\": KNeighborsClassifier(n_neighbors=5)\n",
    "}"
   ]
  },
  {
   "cell_type": "code",
   "execution_count": null,
   "id": "8b720351",
   "metadata": {},
   "outputs": [],
   "source": [
    "# Logistic Regression\n",
    "models[\"Logistic Regression\"].fit(X_train_tfidf, y_train)\n",
    "y_pred = models[\"Logistic Regression\"].predict(X_test_tfidf)\n",
    "\n",
    "print(\"Logistic Regression\")\n",
    "print(\"Accuracy:\", accuracy_score(y_test, y_pred))\n",
    "print(classification_report(y_test, y_pred))"
   ]
  },
  {
   "cell_type": "code",
   "execution_count": null,
   "id": "ec34b68a",
   "metadata": {},
   "outputs": [],
   "source": [
    "# Naive Bayes\n",
    "models[\"Naive Bayes\"].fit(X_train_tfidf, y_train)\n",
    "y_pred = models[\"Naive Bayes\"].predict(X_test_tfidf)\n",
    "\n",
    "print(\"Naive Bayes\")\n",
    "print(\"Accuracy:\", accuracy_score(y_test, y_pred))\n",
    "print(classification_report(y_test, y_pred))"
   ]
  },
  {
   "cell_type": "code",
   "execution_count": null,
   "id": "d94c31b0",
   "metadata": {},
   "outputs": [],
   "source": [
    "# Support Vector Machine\n",
    "models[\"Support Vector Machine\"].fit(X_train_tfidf, y_train)\n",
    "y_pred = models[\"Support Vector Machine\"].predict(X_test_tfidf)\n",
    "\n",
    "print(\"Support Vector Machine\")\n",
    "print(\"Accuracy:\", accuracy_score(y_test, y_pred))\n",
    "print(classification_report(y_test, y_pred))"
   ]
  },
  {
   "cell_type": "code",
   "execution_count": null,
   "id": "2ea357f7",
   "metadata": {},
   "outputs": [],
   "source": [
    "# Random Forest\n",
    "models[\"Random Forest\"].fit(X_train_tfidf, y_train)\n",
    "y_pred = models[\"Random Forest\"].predict(X_test_tfidf)\n",
    "\n",
    "print(\"Random Forest\")\n",
    "print(\"Accuracy:\", accuracy_score(y_test, y_pred))\n",
    "print(classification_report(y_test, y_pred))"
   ]
  },
  {
   "cell_type": "code",
   "execution_count": null,
   "id": "b3dc57f1",
   "metadata": {},
   "outputs": [],
   "source": [
    "# K-nearest Neighbors\n",
    "models[\"K-nearest Neighbors\"].fit(X_train_tfidf, y_train)\n",
    "y_pred = models[\"K-nearest Neighbors\"].predict(X_test_tfidf)\n",
    "\n",
    "print(\"K-nearest Neighbors\")\n",
    "print(\"Accuracy:\", accuracy_score(y_test, y_pred))\n",
    "print(classification_report(y_test, y_pred))"
   ]
  },
  {
   "cell_type": "code",
   "execution_count": null,
   "id": "e63cdb1e",
   "metadata": {},
   "outputs": [],
   "source": [
    "\"\"\" \n",
    "\n",
    "# Iterate through models, train, predict, and evaluate\n",
    "for name, model in models.items():\n",
    "    model.fit(X_train_tfidf, y_train)  # Train the model\n",
    "    y_pred = model.predict(X_test_tfidf)  # Make predictions\n",
    "\n",
    "    # Print evaluation metrics\n",
    "    print(f\"\\n{name} Model Results:\")\n",
    "    print(\"Accuracy:\", accuracy_score(y_test, y_pred))\n",
    "    print(\"Classification Report:\\n\", classification_report(y_test, y_pred)) \"\"\""
   ]
  }
 ],
 "metadata": {
  "kernelspec": {
   "display_name": "Python 3",
   "language": "python",
   "name": "python3"
  },
  "language_info": {
   "codemirror_mode": {
    "name": "ipython",
    "version": 3
   },
   "file_extension": ".py",
   "mimetype": "text/x-python",
   "name": "python",
   "nbconvert_exporter": "python",
   "pygments_lexer": "ipython3",
   "version": "3.11.9"
  }
 },
 "nbformat": 4,
 "nbformat_minor": 5
}
