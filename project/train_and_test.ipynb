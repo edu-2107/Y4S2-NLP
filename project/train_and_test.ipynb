{
 "cells": [
  {
   "cell_type": "code",
   "execution_count": 1,
   "id": "afe73b89",
   "metadata": {},
   "outputs": [
    {
     "name": "stdout",
     "output_type": "stream",
     "text": [
      "639\n",
      "143\n"
     ]
    }
   ],
   "source": [
    "import pandas as pd\n",
    "from sklearn.model_selection import train_test_split\n",
    "\n",
    "df = pd.read_csv('complaints_preprocessed.csv')\n",
    "\n",
    "# Split the dataset (80% training, 20% testing)\n",
    "train_df, test_df = train_test_split(df, test_size=0.2, random_state=42, stratify=df['Target'])\n",
    "\n",
    "print(train_df['narrative'].isna().sum())  # Check NaN count in train set\n",
    "print(test_df['narrative'].isna().sum())   # Check NaN count in test set\n",
    "\n",
    "train_df['narrative'] = train_df['narrative'].fillna(\"\")\n",
    "test_df['narrative'] = test_df['narrative'].fillna(\"\")\n",
    "\n",
    "# Separate features (X) and target labels (y)\n",
    "X_train, y_train = train_df['narrative'], train_df['Target']\n",
    "X_test, y_test = test_df['narrative'], test_df['Target']"
   ]
  },
  {
   "cell_type": "code",
   "execution_count": 2,
   "id": "8eff0639",
   "metadata": {},
   "outputs": [],
   "source": [
    "from sklearn.feature_extraction.text import TfidfVectorizer\n",
    "\n",
    "# Convert text to TF-IDF features\n",
    "tfidf = TfidfVectorizer(max_features=5000)  # Limit to 5000 words\n",
    "X_train_tfidf = tfidf.fit_transform(X_train)\n",
    "X_test_tfidf = tfidf.transform(X_test)"
   ]
  },
  {
   "cell_type": "code",
   "execution_count": 3,
   "id": "cb5d84dd",
   "metadata": {},
   "outputs": [],
   "source": [
    "from sklearn.metrics import accuracy_score, classification_report\n",
    "from sklearn.linear_model import LogisticRegression\n",
    "from sklearn.naive_bayes import MultinomialNB\n",
    "from sklearn.svm import SVC\n",
    "from sklearn.ensemble import RandomForestClassifier\n",
    "from sklearn.neighbors import KNeighborsClassifier\n",
    "\n",
    "# Initialize models\n",
    "models = {\n",
    "    \"Logistic Regression\": LogisticRegression(),\n",
    "    \"Naive Bayes\": MultinomialNB(),\n",
    "    \"Support Vector Machine\": SVC(),\n",
    "    \"Random Forest\": RandomForestClassifier(n_estimators=100, random_state=42),\n",
    "    \"K-Nearest Neighbors\": KNeighborsClassifier(n_neighbors=5)\n",
    "}"
   ]
  },
  {
   "cell_type": "code",
   "execution_count": 4,
   "id": "8b720351",
   "metadata": {},
   "outputs": [
    {
     "name": "stderr",
     "output_type": "stream",
     "text": [
      "C:\\Users\\maxbp\\AppData\\Local\\Packages\\PythonSoftwareFoundation.Python.3.11_qbz5n2kfra8p0\\LocalCache\\local-packages\\Python311\\site-packages\\sklearn\\linear_model\\_logistic.py:469: ConvergenceWarning: lbfgs failed to converge (status=1):\n",
      "STOP: TOTAL NO. of ITERATIONS REACHED LIMIT.\n",
      "\n",
      "Increase the number of iterations (max_iter) or scale the data as shown in:\n",
      "    https://scikit-learn.org/stable/modules/preprocessing.html\n",
      "Please also refer to the documentation for alternative solver options:\n",
      "    https://scikit-learn.org/stable/modules/linear_model.html#logistic-regression\n",
      "  n_iter_i = _check_optimize_result(\n"
     ]
    },
    {
     "name": "stdout",
     "output_type": "stream",
     "text": [
      "Logistic Regression\n",
      "Accuracy: 0.8762499567489014\n",
      "              precision    recall  f1-score   support\n",
      "\n",
      "           0       0.91      0.94      0.93    241055\n",
      "           1       0.79      0.70      0.74     53369\n",
      "           2       0.85      0.84      0.84     45720\n",
      "           3       0.86      0.88      0.87     31728\n",
      "           4       0.79      0.74      0.76     32742\n",
      "\n",
      "    accuracy                           0.88    404614\n",
      "   macro avg       0.84      0.82      0.83    404614\n",
      "weighted avg       0.87      0.88      0.87    404614\n",
      "\n"
     ]
    }
   ],
   "source": [
    "# Logistic Regression\n",
    "models[\"Logistic Regression\"].fit(X_train_tfidf, y_train)\n",
    "y_pred = models[\"Logistic Regression\"].predict(X_test_tfidf)\n",
    "\n",
    "print(\"Logistic Regression\")\n",
    "print(\"Accuracy:\", accuracy_score(y_test, y_pred))\n",
    "print(classification_report(y_test, y_pred))"
   ]
  },
  {
   "cell_type": "code",
   "execution_count": 5,
   "id": "ec34b68a",
   "metadata": {},
   "outputs": [
    {
     "name": "stdout",
     "output_type": "stream",
     "text": [
      "Naive Bayes\n",
      "Accuracy: 0.8383545799206157\n",
      "              precision    recall  f1-score   support\n",
      "\n",
      "           0       0.90      0.91      0.90    241055\n",
      "           1       0.76      0.61      0.68     53369\n",
      "           2       0.74      0.86      0.80     45720\n",
      "           3       0.80      0.86      0.83     31728\n",
      "           4       0.70      0.65      0.67     32742\n",
      "\n",
      "    accuracy                           0.84    404614\n",
      "   macro avg       0.78      0.78      0.77    404614\n",
      "weighted avg       0.84      0.84      0.84    404614\n",
      "\n"
     ]
    }
   ],
   "source": [
    "# Naive Bayes\n",
    "models[\"Naive Bayes\"].fit(X_train_tfidf, y_train)\n",
    "y_pred = models[\"Naive Bayes\"].predict(X_test_tfidf)\n",
    "\n",
    "print(\"Naive Bayes\")\n",
    "print(\"Accuracy:\", accuracy_score(y_test, y_pred))\n",
    "print(classification_report(y_test, y_pred))"
   ]
  },
  {
   "cell_type": "code",
   "execution_count": null,
   "id": "d94c31b0",
   "metadata": {},
   "outputs": [],
   "source": [
    "# Support Vector Machine\n",
    "models[\"Support Vector Machine\"].fit(X_train_tfidf, y_train)\n",
    "y_pred = models[\"Support Vector Machine\"].predict(X_test_tfidf)\n",
    "\n",
    "print(\"Support Vector Machine\")\n",
    "print(\"Accuracy:\", accuracy_score(y_test, y_pred))\n",
    "print(classification_report(y_test, y_pred))"
   ]
  },
  {
   "cell_type": "code",
   "execution_count": null,
   "id": "2ea357f7",
   "metadata": {},
   "outputs": [],
   "source": [
    "# Random Forest\n",
    "models[\"Random Forest\"].fit(X_train_tfidf, y_train)\n",
    "y_pred = models[\"Random Forest\"].predict(X_test_tfidf)\n",
    "\n",
    "print(\"Random Forest\")\n",
    "print(\"Accuracy:\", accuracy_score(y_test, y_pred))\n",
    "print(classification_report(y_test, y_pred))"
   ]
  },
  {
   "cell_type": "code",
   "execution_count": null,
   "id": "b3dc57f1",
   "metadata": {},
   "outputs": [],
   "source": [
    "# K-nearest Neighbors\n",
    "models[\"K-nearest Neighbors\"].fit(X_train_tfidf, y_train)\n",
    "y_pred = models[\"K-nearest Neighbors\"].predict(X_test_tfidf)\n",
    "\n",
    "print(\"K-nearest Neighbors\")\n",
    "print(\"Accuracy:\", accuracy_score(y_test, y_pred))\n",
    "print(classification_report(y_test, y_pred))"
   ]
  },
  {
   "cell_type": "code",
   "execution_count": null,
   "id": "e63cdb1e",
   "metadata": {},
   "outputs": [
    {
     "name": "stderr",
     "output_type": "stream",
     "text": [
      "C:\\Users\\maxbp\\AppData\\Local\\Packages\\PythonSoftwareFoundation.Python.3.11_qbz5n2kfra8p0\\LocalCache\\local-packages\\Python311\\site-packages\\sklearn\\linear_model\\_logistic.py:469: ConvergenceWarning: lbfgs failed to converge (status=1):\n",
      "STOP: TOTAL NO. of ITERATIONS REACHED LIMIT.\n",
      "\n",
      "Increase the number of iterations (max_iter) or scale the data as shown in:\n",
      "    https://scikit-learn.org/stable/modules/preprocessing.html\n",
      "Please also refer to the documentation for alternative solver options:\n",
      "    https://scikit-learn.org/stable/modules/linear_model.html#logistic-regression\n",
      "  n_iter_i = _check_optimize_result(\n"
     ]
    },
    {
     "name": "stdout",
     "output_type": "stream",
     "text": [
      "\n",
      "LogisticRegression Model Results:\n",
      "Accuracy: 0.8762499567489014\n",
      "Classification Report:\n",
      "               precision    recall  f1-score   support\n",
      "\n",
      "           0       0.91      0.94      0.93    241055\n",
      "           1       0.79      0.70      0.74     53369\n",
      "           2       0.85      0.84      0.84     45720\n",
      "           3       0.86      0.88      0.87     31728\n",
      "           4       0.79      0.74      0.76     32742\n",
      "\n",
      "    accuracy                           0.88    404614\n",
      "   macro avg       0.84      0.82      0.83    404614\n",
      "weighted avg       0.87      0.88      0.87    404614\n",
      "\n",
      "\n",
      "NaiveBayes Model Results:\n",
      "Accuracy: 0.8383545799206157\n",
      "Classification Report:\n",
      "               precision    recall  f1-score   support\n",
      "\n",
      "           0       0.90      0.91      0.90    241055\n",
      "           1       0.76      0.61      0.68     53369\n",
      "           2       0.74      0.86      0.80     45720\n",
      "           3       0.80      0.86      0.83     31728\n",
      "           4       0.70      0.65      0.67     32742\n",
      "\n",
      "    accuracy                           0.84    404614\n",
      "   macro avg       0.78      0.78      0.77    404614\n",
      "weighted avg       0.84      0.84      0.84    404614\n",
      "\n"
     ]
    }
   ],
   "source": [
    "\"\"\" \n",
    "\n",
    "# Iterate through models, train, predict, and evaluate\n",
    "for name, model in models.items():\n",
    "    model.fit(X_train_tfidf, y_train)  # Train the model\n",
    "    y_pred = model.predict(X_test_tfidf)  # Make predictions\n",
    "\n",
    "    # Print evaluation metrics\n",
    "    print(f\"\\n{name} Model Results:\")\n",
    "    print(\"Accuracy:\", accuracy_score(y_test, y_pred))\n",
    "    print(\"Classification Report:\\n\", classification_report(y_test, y_pred)) \"\"\""
   ]
  }
 ],
 "metadata": {
  "kernelspec": {
   "display_name": "Python 3",
   "language": "python",
   "name": "python3"
  },
  "language_info": {
   "codemirror_mode": {
    "name": "ipython",
    "version": 3
   },
   "file_extension": ".py",
   "mimetype": "text/x-python",
   "name": "python",
   "nbconvert_exporter": "python",
   "pygments_lexer": "ipython3",
   "version": "3.11.9"
  }
 },
 "nbformat": 4,
 "nbformat_minor": 5
}
