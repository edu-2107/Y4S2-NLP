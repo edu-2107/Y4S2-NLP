{
 "cells": [
  {
   "cell_type": "markdown",
   "id": "fe608f75",
   "metadata": {},
   "source": [
    "Notebook prepared by Henrique Lopes Cardoso (hlc@fe.up.pt), based on [minbpe](https://github.com/karpathy/minbpe) by Andrej Karpathy. He also has a very nice introduction to GPT tokenizers [here](https://www.youtube.com/watch?v=zduSFxRajkE).\n",
    "\n",
    "# BYTE PAIR ENCODING"
   ]
  },
  {
   "cell_type": "markdown",
   "id": "ef642e85",
   "metadata": {},
   "source": [
    "Byte Pair Encoding is a well-known tokenization algorithm that proceeds by making merges of the most frequent adjacent token pairs. It starts with a vocabulary including every single character (in our case, we will use UTF-8 encoding), and then adds new tokens to the vocabulary by merging adjacent ones, as found in the training data.\n",
    "\n",
    "In this notebook, you will implement the Byte Pair Encoding algorithm based on three main functions:\n",
    "\n",
    "- `def train(text, vocab_size, verbose=False)`: the function where you will train the BPE tokenizer on some data, and that will give us as an output the *merges* that were made and the trained *vocabulary*.\n",
    "- `def encode(text)`: the function that, given some text, tokenizes it based on the merges obtained from the training step of the tokenizer.\n",
    "- `def decode(ids)`: the function that, given some sequence of tokens, reconstructs the original text.\n",
    "\n",
    "> Note that GPT tokenizers, such as GPT-4's, includes additional complexity than what is covered in this notebook, including:\n",
    "> - Splitting the text into chunks using a regex pattern before tokenization, meant to ensure that no merges will happen across category boundaries (letters, numbers, punctuation).\n",
    "> - Including special tokens that are not part of the text and are specific to the functioning of the language model."
   ]
  },
  {
   "cell_type": "markdown",
   "id": "28f0979d",
   "metadata": {},
   "source": [
    "## Auxiliary functions\n",
    "\n",
    "We'll start by defining two auxiliary functions that will be helpful later on.\n",
    "\n",
    "The first of these functions is `merge`: given a list of integers `ids` (token identifiers) and a `pair`, it replaces every consecutive occurrence of the pair in the list with some other identifier `idx`."
   ]
  },
  {
   "cell_type": "code",
   "execution_count": 3,
   "id": "eacd01d4",
   "metadata": {},
   "outputs": [],
   "source": [
    "def merge(ids, pair, idx):\n",
    "    \"\"\"\n",
    "    In the list of integers ids, replace all consecutive occurrences of pair with the new integer token idx\n",
    "    Example: ids=[1, 2, 3, 1, 2], pair=(1, 2), idx=4 -> [4, 3, 4]\n",
    "    \"\"\"\n",
    "    newids = []\n",
    "    i = 0\n",
    "\n",
    "    while i < len(ids):\n",
    "        if i < len(ids) - 1 and (ids[i], ids[i + 1]) == pair:\n",
    "            newids.append(idx)\n",
    "            i += 2  # Skip the next element as it's part of the pair\n",
    "        else:\n",
    "            newids.append(ids[i])\n",
    "            i += 1  # Move to the next element\n",
    "\n",
    "    return newids\n"
   ]
  },
  {
   "cell_type": "markdown",
   "id": "3d80753f",
   "metadata": {},
   "source": [
    "Make sure to test your `merge` function:"
   ]
  },
  {
   "cell_type": "code",
   "execution_count": 4,
   "id": "9e07e59d",
   "metadata": {},
   "outputs": [],
   "source": [
    "assert merge(ids=[1, 2, 3, 1, 2], pair=(1, 2), idx=4) == [4,3,4]\n",
    "\n",
    "# other tests here\n"
   ]
  },
  {
   "cell_type": "markdown",
   "id": "cdafee50",
   "metadata": {},
   "source": [
    "The second function, `get_pair_counts`, counts the number of times each consecutive pair occurs in a sequence of integers."
   ]
  },
  {
   "cell_type": "code",
   "execution_count": 5,
   "id": "e21d81de",
   "metadata": {},
   "outputs": [],
   "source": [
    "def get_pair_counts(ids, counts=None):\n",
    "    \"\"\"\n",
    "    Given a list of integers ids, return a dictionary of counts of consecutive pairs.\n",
    "    Example: [1, 2, 3, 1, 2] -> {(1, 2): 2, (2, 3): 1, (3, 1): 1}\n",
    "    Optionally allows updating an existing dictionary of counts.\n",
    "    \"\"\"\n",
    "    counts = {} if counts is None else counts\n",
    "\n",
    "    for i in range(len(ids) - 1):\n",
    "        pair = (ids[i], ids[i + 1])\n",
    "        counts[pair] = counts.get(pair, 0) + 1\n",
    "\n",
    "    return counts"
   ]
  },
  {
   "cell_type": "markdown",
   "id": "cade3797",
   "metadata": {},
   "source": [
    "Make sure to test your `get_pair_counts` function:"
   ]
  },
  {
   "cell_type": "code",
   "execution_count": 6,
   "id": "48302c1e",
   "metadata": {},
   "outputs": [],
   "source": [
    "assert get_pair_counts([1, 2, 3, 1, 2]) == {(1, 2): 2, (2, 3): 1, (3, 1): 1}\n",
    "\n",
    "# other tests here\n"
   ]
  },
  {
   "cell_type": "markdown",
   "id": "694c30c4",
   "metadata": {},
   "source": [
    "## Train\n",
    "\n",
    "The `train` function will build the tokenizer. That is, given some training corpus and the desired vocabulary size, it will determine what merges to make based on the frequency of adjacent tokens. It will also provide us with the resulting vocabulary."
   ]
  },
  {
   "cell_type": "code",
   "execution_count": 8,
   "id": "56333f97",
   "metadata": {},
   "outputs": [],
   "source": [
    "def train(text, vocab_size, verbose=False):\n",
    "    assert vocab_size >= 256  # We should do at least one merge...\n",
    "\n",
    "    vocab = {idx: bytes([idx]) for idx in range(256)}  # int -> bytes\n",
    "    num_merges = vocab_size - 256\n",
    "\n",
    "    # Input text preprocessing: encode text using UTF-8\n",
    "    text_bytes = text.encode(\"utf-8\")  # Raw bytes\n",
    "    ids = list(text_bytes)  # List of integers in range 0..255\n",
    "\n",
    "    # Iteratively merge the most common pairs to create new tokens\n",
    "    merges = {}  # (int, int) -> int\n",
    "    for i in range(num_merges):\n",
    "        # a) Count the number of times every consecutive pair appears\n",
    "        counts = get_pair_counts(ids)  # Use previously defined function\n",
    "\n",
    "        # b) Find the pair with the highest count\n",
    "        pair = max(counts, key=counts.get)\n",
    "\n",
    "        # Use the next available id for the new token\n",
    "        idx = 256 + i\n",
    "\n",
    "        # Replace all occurrences of pair in ids with idx\n",
    "        ids = merge(ids, pair, idx)\n",
    "\n",
    "        # Save the merge\n",
    "        merges[pair] = idx\n",
    "        vocab[idx] = vocab[pair[0]] + vocab[pair[1]]  # Update vocabulary\n",
    "\n",
    "        # Print progress if verbose mode is enabled\n",
    "        if verbose:\n",
    "            print(f\"merge {i+1}/{num_merges}: {pair} -> {idx} ({vocab[idx]}) had {counts[pair]} occurrences\")\n",
    "\n",
    "    return merges, vocab  # Return the merges and vocabulary"
   ]
  },
  {
   "cell_type": "markdown",
   "id": "d1ed08eb",
   "metadata": {},
   "source": [
    "Let's train the tokenizer in some simple text:"
   ]
  },
  {
   "cell_type": "code",
   "execution_count": 9,
   "id": "ff31ac15",
   "metadata": {},
   "outputs": [
    {
     "name": "stdout",
     "output_type": "stream",
     "text": [
      "merge 1/3: (97, 97) -> 256 (b'aa') had 4 occurrences\n",
      "merge 2/3: (256, 97) -> 257 (b'aaa') had 2 occurrences\n",
      "merge 3/3: (257, 98) -> 258 (b'aaab') had 2 occurrences\n"
     ]
    }
   ],
   "source": [
    "text = \"aaabdaaabac\"\n",
    "merges, vocab = train(text, 256 + 3, verbose=True)"
   ]
  },
  {
   "cell_type": "markdown",
   "id": "47a454ad",
   "metadata": {},
   "source": [
    "And let's see what merges were made and what has been added to the vocabulary:"
   ]
  },
  {
   "cell_type": "code",
   "execution_count": 10,
   "id": "66c7c664",
   "metadata": {},
   "outputs": [
    {
     "data": {
      "text/plain": [
       "{(97, 97): 256, (256, 97): 257, (257, 98): 258}"
      ]
     },
     "execution_count": 10,
     "metadata": {},
     "output_type": "execute_result"
    }
   ],
   "source": [
    "merges"
   ]
  },
  {
   "cell_type": "code",
   "execution_count": 11,
   "id": "03c1c63f",
   "metadata": {},
   "outputs": [
    {
     "name": "stdout",
     "output_type": "stream",
     "text": [
      "256 b'aa'\n",
      "257 b'aaa'\n",
      "258 b'aaab'\n"
     ]
    }
   ],
   "source": [
    "for key, value in vocab.items():\n",
    "    if key > 255:\n",
    "        print(key, value)"
   ]
  },
  {
   "cell_type": "markdown",
   "id": "47cb1c57",
   "metadata": {},
   "source": [
    "Train the tokenizer in some longer text, for a vocabulary size of 512."
   ]
  },
  {
   "cell_type": "code",
   "execution_count": 13,
   "id": "2f8c756f",
   "metadata": {},
   "outputs": [
    {
     "name": "stdout",
     "output_type": "stream",
     "text": [
      "merge 1/256: (101, 32) -> 256 (b'e ') had 12 occurrences\n",
      "merge 2/256: (115, 32) -> 257 (b's ') had 12 occurrences\n",
      "merge 3/256: (116, 104) -> 258 (b'th') had 9 occurrences\n",
      "merge 4/256: (121, 32) -> 259 (b'y ') had 9 occurrences\n",
      "merge 5/256: (100, 32) -> 260 (b'd ') had 8 occurrences\n",
      "merge 6/256: (101, 114) -> 261 (b'er') had 7 occurrences\n",
      "merge 7/256: (116, 32) -> 262 (b't ') had 7 occurrences\n",
      "merge 8/256: (97, 110) -> 263 (b'an') had 7 occurrences\n",
      "merge 9/256: (105, 257) -> 264 (b'is ') had 6 occurrences\n",
      "merge 10/256: (105, 110) -> 265 (b'in') had 5 occurrences\n",
      "merge 11/256: (118, 261) -> 266 (b'ver') had 4 occurrences\n",
      "merge 12/256: (97, 257) -> 267 (b'as ') had 4 occurrences\n",
      "merge 13/256: (114, 101) -> 268 (b're') had 4 occurrences\n",
      "merge 14/256: (263, 260) -> 269 (b'and ') had 4 occurrences\n",
      "merge 15/256: (110, 32) -> 270 (b'n ') had 3 occurrences\n",
      "merge 16/256: (258, 256) -> 271 (b'the ') had 3 occurrences\n",
      "merge 17/256: (264, 104) -> 272 (b'is h') had 3 occurrences\n",
      "merge 18/256: (112, 101) -> 273 (b'pe') had 3 occurrences\n",
      "merge 19/256: (112, 108) -> 274 (b'pl') had 3 occurrences\n",
      "merge 20/256: (108, 259) -> 275 (b'ly ') had 3 occurrences\n",
      "merge 21/256: (97, 114) -> 276 (b'ar') had 3 occurrences\n",
      "merge 22/256: (97, 262) -> 277 (b'at ') had 3 occurrences\n",
      "merge 23/256: (119, 104) -> 278 (b'wh') had 3 occurrences\n",
      "merge 24/256: (111, 114) -> 279 (b'or') had 3 occurrences\n",
      "merge 25/256: (98, 101) -> 280 (b'be') had 2 occurrences\n",
      "merge 26/256: (265, 103) -> 281 (b'ing') had 2 occurrences\n",
      "merge 27/256: (44, 32) -> 282 (b', ') had 2 occurrences\n",
      "merge 28/256: (110, 105) -> 283 (b'ni') had 2 occurrences\n",
      "merge 29/256: (283, 266) -> 284 (b'niver') had 2 occurrences\n",
      "merge 30/256: (284, 115) -> 285 (b'nivers') had 2 occurrences\n",
      "merge 31/256: (285, 256) -> 286 (b'niverse ') had 2 occurrences\n",
      "merge 32/256: (268, 97) -> 287 (b'rea') had 2 occurrences\n",
      "merge 33/256: (116, 101) -> 288 (b'te') had 2 occurrences\n",
      "merge 34/256: (100, 46) -> 289 (b'd.') had 2 occurrences\n",
      "merge 35/256: (84, 104) -> 290 (b'Th') had 2 occurrences\n",
      "merge 36/256: (272, 267) -> 291 (b'is has ') had 2 occurrences\n",
      "merge 37/256: (97, 32) -> 292 (b'a ') had 2 occurrences\n",
      "merge 38/256: (102, 32) -> 293 (b'f ') had 2 occurrences\n",
      "merge 39/256: (101, 270) -> 294 (b'en ') had 2 occurrences\n",
      "merge 40/256: (119, 105) -> 295 (b'wi') had 2 occurrences\n",
      "merge 41/256: (100, 101) -> 296 (b'de') had 2 occurrences\n",
      "merge 42/256: (101, 46) -> 297 (b'e.') had 2 occurrences\n",
      "merge 43/256: (297, 10) -> 298 (b'e.\\n') had 2 occurrences\n",
      "merge 44/256: (115, 97) -> 299 (b'sa') had 2 occurrences\n",
      "merge 45/256: (258, 277) -> 300 (b'that ') had 2 occurrences\n",
      "merge 46/256: (115, 111) -> 301 (b'so') had 2 occurrences\n",
      "merge 47/256: (301, 109) -> 302 (b'som') had 2 occurrences\n",
      "merge 48/256: (302, 101) -> 303 (b'some') had 2 occurrences\n",
      "merge 49/256: (100, 105) -> 304 (b'di') had 2 occurrences\n",
      "merge 50/256: (101, 120) -> 305 (b'ex') had 2 occurrences\n",
      "merge 51/256: (97, 99) -> 306 (b'ac') had 2 occurrences\n",
      "merge 52/256: (116, 275) -> 307 (b'tly ') had 2 occurrences\n",
      "merge 53/256: (32, 269) -> 308 (b' and ') had 2 occurrences\n",
      "merge 54/256: (105, 262) -> 309 (b'it ') had 2 occurrences\n",
      "merge 55/256: (115, 116) -> 310 (b'st') had 2 occurrences\n",
      "merge 56/256: (112, 273) -> 311 (b'ppe') had 2 occurrences\n",
      "merge 57/256: (105, 99) -> 312 (b'ic') had 2 occurrences\n",
      "merge 58/256: (73, 270) -> 313 (b'In ') had 1 occurrences\n",
      "merge 59/256: (313, 271) -> 314 (b'In the ') had 1 occurrences\n",
      "merge 60/256: (314, 280) -> 315 (b'In the be') had 1 occurrences\n",
      "merge 61/256: (315, 103) -> 316 (b'In the beg') had 1 occurrences\n",
      "merge 62/256: (316, 265) -> 317 (b'In the begin') had 1 occurrences\n",
      "merge 63/256: (317, 110) -> 318 (b'In the beginn') had 1 occurrences\n",
      "merge 64/256: (318, 281) -> 319 (b'In the beginning') had 1 occurrences\n",
      "merge 65/256: (319, 282) -> 320 (b'In the beginning, ') had 1 occurrences\n",
      "merge 66/256: (320, 271) -> 321 (b'In the beginning, the ') had 1 occurrences\n",
      "merge 67/256: (321, 117) -> 322 (b'In the beginning, the u') had 1 occurrences\n",
      "merge 68/256: (322, 286) -> 323 (b'In the beginning, the universe ') had 1 occurrences\n",
      "merge 69/256: (323, 119) -> 324 (b'In the beginning, the universe w') had 1 occurrences\n",
      "merge 70/256: (324, 267) -> 325 (b'In the beginning, the universe was ') had 1 occurrences\n",
      "merge 71/256: (325, 99) -> 326 (b'In the beginning, the universe was c') had 1 occurrences\n",
      "merge 72/256: (326, 287) -> 327 (b'In the beginning, the universe was crea') had 1 occurrences\n",
      "merge 73/256: (327, 288) -> 328 (b'In the beginning, the universe was create') had 1 occurrences\n",
      "merge 74/256: (328, 289) -> 329 (b'In the beginning, the universe was created.') had 1 occurrences\n",
      "merge 75/256: (329, 32) -> 330 (b'In the beginning, the universe was created. ') had 1 occurrences\n",
      "merge 76/256: (330, 290) -> 331 (b'In the beginning, the universe was created. Th') had 1 occurrences\n",
      "merge 77/256: (331, 291) -> 332 (b'In the beginning, the universe was created. This has ') had 1 occurrences\n",
      "merge 78/256: (332, 109) -> 333 (b'In the beginning, the universe was created. This has m') had 1 occurrences\n",
      "merge 79/256: (333, 97) -> 334 (b'In the beginning, the universe was created. This has ma') had 1 occurrences\n",
      "merge 80/256: (334, 100) -> 335 (b'In the beginning, the universe was created. This has mad') had 1 occurrences\n",
      "merge 81/256: (335, 256) -> 336 (b'In the beginning, the universe was created. This has made ') had 1 occurrences\n",
      "merge 82/256: (336, 292) -> 337 (b'In the beginning, the universe was created. This has made a ') had 1 occurrences\n",
      "merge 83/256: (337, 108) -> 338 (b'In the beginning, the universe was created. This has made a l') had 1 occurrences\n",
      "merge 84/256: (338, 111) -> 339 (b'In the beginning, the universe was created. This has made a lo') had 1 occurrences\n",
      "merge 85/256: (339, 262) -> 340 (b'In the beginning, the universe was created. This has made a lot ') had 1 occurrences\n",
      "merge 86/256: (340, 111) -> 341 (b'In the beginning, the universe was created. This has made a lot o') had 1 occurrences\n",
      "merge 87/256: (341, 293) -> 342 (b'In the beginning, the universe was created. This has made a lot of ') had 1 occurrences\n",
      "merge 88/256: (342, 273) -> 343 (b'In the beginning, the universe was created. This has made a lot of pe') had 1 occurrences\n",
      "merge 89/256: (343, 111) -> 344 (b'In the beginning, the universe was created. This has made a lot of peo') had 1 occurrences\n",
      "merge 90/256: (344, 274) -> 345 (b'In the beginning, the universe was created. This has made a lot of peopl') had 1 occurrences\n",
      "merge 91/256: (345, 256) -> 346 (b'In the beginning, the universe was created. This has made a lot of people ') had 1 occurrences\n",
      "merge 92/256: (346, 266) -> 347 (b'In the beginning, the universe was created. This has made a lot of people ver') had 1 occurrences\n",
      "merge 93/256: (347, 259) -> 348 (b'In the beginning, the universe was created. This has made a lot of people very ') had 1 occurrences\n",
      "merge 94/256: (348, 263) -> 349 (b'In the beginning, the universe was created. This has made a lot of people very an') had 1 occurrences\n",
      "merge 95/256: (349, 103) -> 350 (b'In the beginning, the universe was created. This has made a lot of people very ang') had 1 occurrences\n",
      "merge 96/256: (350, 114) -> 351 (b'In the beginning, the universe was created. This has made a lot of people very angr') had 1 occurrences\n",
      "merge 97/256: (351, 259) -> 352 (b'In the beginning, the universe was created. This has made a lot of people very angry ') had 1 occurrences\n",
      "merge 98/256: (352, 269) -> 353 (b'In the beginning, the universe was created. This has made a lot of people very angry and ') had 1 occurrences\n",
      "merge 99/256: (353, 280) -> 354 (b'In the beginning, the universe was created. This has made a lot of people very angry and be') had 1 occurrences\n",
      "merge 100/256: (354, 294) -> 355 (b'In the beginning, the universe was created. This has made a lot of people very angry and been ') had 1 occurrences\n",
      "merge 101/256: (355, 295) -> 356 (b'In the beginning, the universe was created. This has made a lot of people very angry and been wi') had 1 occurrences\n",
      "merge 102/256: (356, 296) -> 357 (b'In the beginning, the universe was created. This has made a lot of people very angry and been wide') had 1 occurrences\n",
      "merge 103/256: (357, 275) -> 358 (b'In the beginning, the universe was created. This has made a lot of people very angry and been widely ') had 1 occurrences\n",
      "merge 104/256: (358, 268) -> 359 (b'In the beginning, the universe was created. This has made a lot of people very angry and been widely re') had 1 occurrences\n",
      "merge 105/256: (359, 103) -> 360 (b'In the beginning, the universe was created. This has made a lot of people very angry and been widely reg') had 1 occurrences\n",
      "merge 106/256: (360, 276) -> 361 (b'In the beginning, the universe was created. This has made a lot of people very angry and been widely regar') had 1 occurrences\n",
      "merge 107/256: (361, 296) -> 362 (b'In the beginning, the universe was created. This has made a lot of people very angry and been widely regarde') had 1 occurrences\n",
      "merge 108/256: (362, 260) -> 363 (b'In the beginning, the universe was created. This has made a lot of people very angry and been widely regarded ') had 1 occurrences\n",
      "merge 109/256: (363, 267) -> 364 (b'In the beginning, the universe was created. This has made a lot of people very angry and been widely regarded as ') had 1 occurrences\n",
      "merge 110/256: (364, 292) -> 365 (b'In the beginning, the universe was created. This has made a lot of people very angry and been widely regarded as a ') had 1 occurrences\n",
      "merge 111/256: (365, 98) -> 366 (b'In the beginning, the universe was created. This has made a lot of people very angry and been widely regarded as a b') had 1 occurrences\n",
      "merge 112/256: (366, 97) -> 367 (b'In the beginning, the universe was created. This has made a lot of people very angry and been widely regarded as a ba') had 1 occurrences\n",
      "merge 113/256: (367, 260) -> 368 (b'In the beginning, the universe was created. This has made a lot of people very angry and been widely regarded as a bad ') had 1 occurrences\n",
      "merge 114/256: (368, 109) -> 369 (b'In the beginning, the universe was created. This has made a lot of people very angry and been widely regarded as a bad m') had 1 occurrences\n",
      "merge 115/256: (369, 111) -> 370 (b'In the beginning, the universe was created. This has made a lot of people very angry and been widely regarded as a bad mo') had 1 occurrences\n",
      "merge 116/256: (370, 118) -> 371 (b'In the beginning, the universe was created. This has made a lot of people very angry and been widely regarded as a bad mov') had 1 occurrences\n",
      "merge 117/256: (371, 298) -> 372 (b'In the beginning, the universe was created. This has made a lot of people very angry and been widely regarded as a bad move.\\n') had 1 occurrences\n",
      "merge 118/256: (372, 73) -> 373 (b'In the beginning, the universe was created. This has made a lot of people very angry and been widely regarded as a bad move.\\nI') had 1 occurrences\n",
      "merge 119/256: (373, 262) -> 374 (b'In the beginning, the universe was created. This has made a lot of people very angry and been widely regarded as a bad move.\\nIt ') had 1 occurrences\n",
      "merge 120/256: (374, 264) -> 375 (b'In the beginning, the universe was created. This has made a lot of people very angry and been widely regarded as a bad move.\\nIt is ') had 1 occurrences\n",
      "merge 121/256: (375, 299) -> 376 (b'In the beginning, the universe was created. This has made a lot of people very angry and been widely regarded as a bad move.\\nIt is sa') had 1 occurrences\n",
      "merge 122/256: (376, 105) -> 377 (b'In the beginning, the universe was created. This has made a lot of people very angry and been widely regarded as a bad move.\\nIt is sai') had 1 occurrences\n",
      "merge 123/256: (377, 260) -> 378 (b'In the beginning, the universe was created. This has made a lot of people very angry and been widely regarded as a bad move.\\nIt is said ') had 1 occurrences\n",
      "merge 124/256: (378, 300) -> 379 (b'In the beginning, the universe was created. This has made a lot of people very angry and been widely regarded as a bad move.\\nIt is said that ') had 1 occurrences\n",
      "merge 125/256: (379, 105) -> 380 (b'In the beginning, the universe was created. This has made a lot of people very angry and been widely regarded as a bad move.\\nIt is said that i') had 1 occurrences\n",
      "merge 126/256: (380, 293) -> 381 (b'In the beginning, the universe was created. This has made a lot of people very angry and been widely regarded as a bad move.\\nIt is said that if ') had 1 occurrences\n",
      "merge 127/256: (381, 303) -> 382 (b'In the beginning, the universe was created. This has made a lot of people very angry and been widely regarded as a bad move.\\nIt is said that if some') had 1 occurrences\n",
      "merge 128/256: (382, 111) -> 383 (b'In the beginning, the universe was created. This has made a lot of people very angry and been widely regarded as a bad move.\\nIt is said that if someo') had 1 occurrences\n",
      "merge 129/256: (383, 110) -> 384 (b'In the beginning, the universe was created. This has made a lot of people very angry and been widely regarded as a bad move.\\nIt is said that if someon') had 1 occurrences\n",
      "merge 130/256: (384, 256) -> 385 (b'In the beginning, the universe was created. This has made a lot of people very angry and been widely regarded as a bad move.\\nIt is said that if someone ') had 1 occurrences\n",
      "merge 131/256: (385, 304) -> 386 (b'In the beginning, the universe was created. This has made a lot of people very angry and been widely regarded as a bad move.\\nIt is said that if someone di') had 1 occurrences\n",
      "merge 132/256: (386, 115) -> 387 (b'In the beginning, the universe was created. This has made a lot of people very angry and been widely regarded as a bad move.\\nIt is said that if someone dis') had 1 occurrences\n",
      "merge 133/256: (387, 99) -> 388 (b'In the beginning, the universe was created. This has made a lot of people very angry and been widely regarded as a bad move.\\nIt is said that if someone disc') had 1 occurrences\n",
      "merge 134/256: (388, 111) -> 389 (b'In the beginning, the universe was created. This has made a lot of people very angry and been widely regarded as a bad move.\\nIt is said that if someone disco') had 1 occurrences\n",
      "merge 135/256: (389, 266) -> 390 (b'In the beginning, the universe was created. This has made a lot of people very angry and been widely regarded as a bad move.\\nIt is said that if someone discover') had 1 occurrences\n",
      "merge 136/256: (390, 257) -> 391 (b'In the beginning, the universe was created. This has made a lot of people very angry and been widely regarded as a bad move.\\nIt is said that if someone discovers ') had 1 occurrences\n",
      "merge 137/256: (391, 305) -> 392 (b'In the beginning, the universe was created. This has made a lot of people very angry and been widely regarded as a bad move.\\nIt is said that if someone discovers ex') had 1 occurrences\n",
      "merge 138/256: (392, 306) -> 393 (b'In the beginning, the universe was created. This has made a lot of people very angry and been widely regarded as a bad move.\\nIt is said that if someone discovers exac') had 1 occurrences\n",
      "merge 139/256: (393, 307) -> 394 (b'In the beginning, the universe was created. This has made a lot of people very angry and been widely regarded as a bad move.\\nIt is said that if someone discovers exactly ') had 1 occurrences\n",
      "merge 140/256: (394, 278) -> 395 (b'In the beginning, the universe was created. This has made a lot of people very angry and been widely regarded as a bad move.\\nIt is said that if someone discovers exactly wh') had 1 occurrences\n",
      "merge 141/256: (395, 277) -> 396 (b'In the beginning, the universe was created. This has made a lot of people very angry and been widely regarded as a bad move.\\nIt is said that if someone discovers exactly what ') had 1 occurrences\n",
      "merge 142/256: (396, 271) -> 397 (b'In the beginning, the universe was created. This has made a lot of people very angry and been widely regarded as a bad move.\\nIt is said that if someone discovers exactly what the ') had 1 occurrences\n",
      "merge 143/256: (397, 85) -> 398 (b'In the beginning, the universe was created. This has made a lot of people very angry and been widely regarded as a bad move.\\nIt is said that if someone discovers exactly what the U') had 1 occurrences\n",
      "merge 144/256: (398, 286) -> 399 (b'In the beginning, the universe was created. This has made a lot of people very angry and been widely regarded as a bad move.\\nIt is said that if someone discovers exactly what the Universe ') had 1 occurrences\n",
      "merge 145/256: (399, 264) -> 400 (b'In the beginning, the universe was created. This has made a lot of people very angry and been widely regarded as a bad move.\\nIt is said that if someone discovers exactly what the Universe is ') had 1 occurrences\n",
      "merge 146/256: (400, 102) -> 401 (b'In the beginning, the universe was created. This has made a lot of people very angry and been widely regarded as a bad move.\\nIt is said that if someone discovers exactly what the Universe is f') had 1 occurrences\n",
      "merge 147/256: (401, 279) -> 402 (b'In the beginning, the universe was created. This has made a lot of people very angry and been widely regarded as a bad move.\\nIt is said that if someone discovers exactly what the Universe is for') had 1 occurrences\n",
      "merge 148/256: (402, 308) -> 403 (b'In the beginning, the universe was created. This has made a lot of people very angry and been widely regarded as a bad move.\\nIt is said that if someone discovers exactly what the Universe is for and ') had 1 occurrences\n",
      "merge 149/256: (403, 278) -> 404 (b'In the beginning, the universe was created. This has made a lot of people very angry and been widely regarded as a bad move.\\nIt is said that if someone discovers exactly what the Universe is for and wh') had 1 occurrences\n",
      "merge 150/256: (404, 259) -> 405 (b'In the beginning, the universe was created. This has made a lot of people very angry and been widely regarded as a bad move.\\nIt is said that if someone discovers exactly what the Universe is for and why ') had 1 occurrences\n",
      "merge 151/256: (405, 309) -> 406 (b'In the beginning, the universe was created. This has made a lot of people very angry and been widely regarded as a bad move.\\nIt is said that if someone discovers exactly what the Universe is for and why it ') had 1 occurrences\n",
      "merge 152/256: (406, 272) -> 407 (b'In the beginning, the universe was created. This has made a lot of people very angry and been widely regarded as a bad move.\\nIt is said that if someone discovers exactly what the Universe is for and why it is h') had 1 occurrences\n",
      "merge 153/256: (407, 261) -> 408 (b'In the beginning, the universe was created. This has made a lot of people very angry and been widely regarded as a bad move.\\nIt is said that if someone discovers exactly what the Universe is for and why it is her') had 1 occurrences\n",
      "merge 154/256: (408, 101) -> 409 (b'In the beginning, the universe was created. This has made a lot of people very angry and been widely regarded as a bad move.\\nIt is said that if someone discovers exactly what the Universe is for and why it is here') had 1 occurrences\n",
      "merge 155/256: (409, 282) -> 410 (b'In the beginning, the universe was created. This has made a lot of people very angry and been widely regarded as a bad move.\\nIt is said that if someone discovers exactly what the Universe is for and why it is here, ') had 1 occurrences\n",
      "merge 156/256: (410, 309) -> 411 (b'In the beginning, the universe was created. This has made a lot of people very angry and been widely regarded as a bad move.\\nIt is said that if someone discovers exactly what the Universe is for and why it is here, it ') had 1 occurrences\n",
      "merge 157/256: (411, 295) -> 412 (b'In the beginning, the universe was created. This has made a lot of people very angry and been widely regarded as a bad move.\\nIt is said that if someone discovers exactly what the Universe is for and why it is here, it wi') had 1 occurrences\n",
      "merge 158/256: (412, 108) -> 413 (b'In the beginning, the universe was created. This has made a lot of people very angry and been widely regarded as a bad move.\\nIt is said that if someone discovers exactly what the Universe is for and why it is here, it wil') had 1 occurrences\n",
      "merge 159/256: (413, 108) -> 414 (b'In the beginning, the universe was created. This has made a lot of people very angry and been widely regarded as a bad move.\\nIt is said that if someone discovers exactly what the Universe is for and why it is here, it will') had 1 occurrences\n",
      "merge 160/256: (414, 32) -> 415 (b'In the beginning, the universe was created. This has made a lot of people very angry and been widely regarded as a bad move.\\nIt is said that if someone discovers exactly what the Universe is for and why it is here, it will ') had 1 occurrences\n",
      "merge 161/256: (415, 265) -> 416 (b'In the beginning, the universe was created. This has made a lot of people very angry and been widely regarded as a bad move.\\nIt is said that if someone discovers exactly what the Universe is for and why it is here, it will in') had 1 occurrences\n",
      "merge 162/256: (416, 310) -> 417 (b'In the beginning, the universe was created. This has made a lot of people very angry and been widely regarded as a bad move.\\nIt is said that if someone discovers exactly what the Universe is for and why it is here, it will inst') had 1 occurrences\n",
      "merge 163/256: (417, 263) -> 418 (b'In the beginning, the universe was created. This has made a lot of people very angry and been widely regarded as a bad move.\\nIt is said that if someone discovers exactly what the Universe is for and why it is here, it will instan') had 1 occurrences\n",
      "merge 164/256: (418, 307) -> 419 (b'In the beginning, the universe was created. This has made a lot of people very angry and been widely regarded as a bad move.\\nIt is said that if someone discovers exactly what the Universe is for and why it is here, it will instantly ') had 1 occurrences\n",
      "merge 165/256: (419, 304) -> 420 (b'In the beginning, the universe was created. This has made a lot of people very angry and been widely regarded as a bad move.\\nIt is said that if someone discovers exactly what the Universe is for and why it is here, it will instantly di') had 1 occurrences\n",
      "merge 166/256: (420, 299) -> 421 (b'In the beginning, the universe was created. This has made a lot of people very angry and been widely regarded as a bad move.\\nIt is said that if someone discovers exactly what the Universe is for and why it is here, it will instantly disa') had 1 occurrences\n",
      "merge 167/256: (421, 311) -> 422 (b'In the beginning, the universe was created. This has made a lot of people very angry and been widely regarded as a bad move.\\nIt is said that if someone discovers exactly what the Universe is for and why it is here, it will instantly disappe') had 1 occurrences\n",
      "merge 168/256: (422, 276) -> 423 (b'In the beginning, the universe was created. This has made a lot of people very angry and been widely regarded as a bad move.\\nIt is said that if someone discovers exactly what the Universe is for and why it is here, it will instantly disappear') had 1 occurrences\n",
      "merge 169/256: (423, 308) -> 424 (b'In the beginning, the universe was created. This has made a lot of people very angry and been widely regarded as a bad move.\\nIt is said that if someone discovers exactly what the Universe is for and why it is here, it will instantly disappear and ') had 1 occurrences\n",
      "merge 170/256: (424, 98) -> 425 (b'In the beginning, the universe was created. This has made a lot of people very angry and been widely regarded as a bad move.\\nIt is said that if someone discovers exactly what the Universe is for and why it is here, it will instantly disappear and b') had 1 occurrences\n",
      "merge 171/256: (425, 256) -> 426 (b'In the beginning, the universe was created. This has made a lot of people very angry and been widely regarded as a bad move.\\nIt is said that if someone discovers exactly what the Universe is for and why it is here, it will instantly disappear and be ') had 1 occurrences\n",
      "merge 172/256: (426, 268) -> 427 (b'In the beginning, the universe was created. This has made a lot of people very angry and been widely regarded as a bad move.\\nIt is said that if someone discovers exactly what the Universe is for and why it is here, it will instantly disappear and be re') had 1 occurrences\n",
      "merge 173/256: (427, 274) -> 428 (b'In the beginning, the universe was created. This has made a lot of people very angry and been widely regarded as a bad move.\\nIt is said that if someone discovers exactly what the Universe is for and why it is here, it will instantly disappear and be repl') had 1 occurrences\n",
      "merge 174/256: (428, 306) -> 429 (b'In the beginning, the universe was created. This has made a lot of people very angry and been widely regarded as a bad move.\\nIt is said that if someone discovers exactly what the Universe is for and why it is here, it will instantly disappear and be replac') had 1 occurrences\n",
      "merge 175/256: (429, 101) -> 430 (b'In the beginning, the universe was created. This has made a lot of people very angry and been widely regarded as a bad move.\\nIt is said that if someone discovers exactly what the Universe is for and why it is here, it will instantly disappear and be replace') had 1 occurrences\n",
      "merge 176/256: (430, 260) -> 431 (b'In the beginning, the universe was created. This has made a lot of people very angry and been widely regarded as a bad move.\\nIt is said that if someone discovers exactly what the Universe is for and why it is here, it will instantly disappear and be replaced ') had 1 occurrences\n",
      "merge 177/256: (431, 98) -> 432 (b'In the beginning, the universe was created. This has made a lot of people very angry and been widely regarded as a bad move.\\nIt is said that if someone discovers exactly what the Universe is for and why it is here, it will instantly disappear and be replaced b') had 1 occurrences\n",
      "merge 178/256: (432, 259) -> 433 (b'In the beginning, the universe was created. This has made a lot of people very angry and been widely regarded as a bad move.\\nIt is said that if someone discovers exactly what the Universe is for and why it is here, it will instantly disappear and be replaced by ') had 1 occurrences\n",
      "merge 179/256: (433, 303) -> 434 (b'In the beginning, the universe was created. This has made a lot of people very angry and been widely regarded as a bad move.\\nIt is said that if someone discovers exactly what the Universe is for and why it is here, it will instantly disappear and be replaced by some') had 1 occurrences\n",
      "merge 180/256: (434, 258) -> 435 (b'In the beginning, the universe was created. This has made a lot of people very angry and been widely regarded as a bad move.\\nIt is said that if someone discovers exactly what the Universe is for and why it is here, it will instantly disappear and be replaced by someth') had 1 occurrences\n",
      "merge 181/256: (435, 281) -> 436 (b'In the beginning, the universe was created. This has made a lot of people very angry and been widely regarded as a bad move.\\nIt is said that if someone discovers exactly what the Universe is for and why it is here, it will instantly disappear and be replaced by something') had 1 occurrences\n",
      "merge 182/256: (436, 32) -> 437 (b'In the beginning, the universe was created. This has made a lot of people very angry and been widely regarded as a bad move.\\nIt is said that if someone discovers exactly what the Universe is for and why it is here, it will instantly disappear and be replaced by something ') had 1 occurrences\n",
      "merge 183/256: (437, 101) -> 438 (b'In the beginning, the universe was created. This has made a lot of people very angry and been widely regarded as a bad move.\\nIt is said that if someone discovers exactly what the Universe is for and why it is here, it will instantly disappear and be replaced by something e') had 1 occurrences\n",
      "merge 184/256: (438, 118) -> 439 (b'In the beginning, the universe was created. This has made a lot of people very angry and been widely regarded as a bad move.\\nIt is said that if someone discovers exactly what the Universe is for and why it is here, it will instantly disappear and be replaced by something ev') had 1 occurrences\n",
      "merge 185/256: (439, 294) -> 440 (b'In the beginning, the universe was created. This has made a lot of people very angry and been widely regarded as a bad move.\\nIt is said that if someone discovers exactly what the Universe is for and why it is here, it will instantly disappear and be replaced by something even ') had 1 occurrences\n",
      "merge 186/256: (440, 109) -> 441 (b'In the beginning, the universe was created. This has made a lot of people very angry and been widely regarded as a bad move.\\nIt is said that if someone discovers exactly what the Universe is for and why it is here, it will instantly disappear and be replaced by something even m') had 1 occurrences\n",
      "merge 187/256: (441, 279) -> 442 (b'In the beginning, the universe was created. This has made a lot of people very angry and been widely regarded as a bad move.\\nIt is said that if someone discovers exactly what the Universe is for and why it is here, it will instantly disappear and be replaced by something even mor') had 1 occurrences\n",
      "merge 188/256: (442, 256) -> 443 (b'In the beginning, the universe was created. This has made a lot of people very angry and been widely regarded as a bad move.\\nIt is said that if someone discovers exactly what the Universe is for and why it is here, it will instantly disappear and be replaced by something even more ') had 1 occurrences\n",
      "merge 189/256: (443, 98) -> 444 (b'In the beginning, the universe was created. This has made a lot of people very angry and been widely regarded as a bad move.\\nIt is said that if someone discovers exactly what the Universe is for and why it is here, it will instantly disappear and be replaced by something even more b') had 1 occurrences\n",
      "merge 190/256: (444, 105) -> 445 (b'In the beginning, the universe was created. This has made a lot of people very angry and been widely regarded as a bad move.\\nIt is said that if someone discovers exactly what the Universe is for and why it is here, it will instantly disappear and be replaced by something even more bi') had 1 occurrences\n",
      "merge 191/256: (445, 122) -> 446 (b'In the beginning, the universe was created. This has made a lot of people very angry and been widely regarded as a bad move.\\nIt is said that if someone discovers exactly what the Universe is for and why it is here, it will instantly disappear and be replaced by something even more biz') had 1 occurrences\n",
      "merge 192/256: (446, 276) -> 447 (b'In the beginning, the universe was created. This has made a lot of people very angry and been widely regarded as a bad move.\\nIt is said that if someone discovers exactly what the Universe is for and why it is here, it will instantly disappear and be replaced by something even more bizar') had 1 occurrences\n",
      "merge 193/256: (447, 114) -> 448 (b'In the beginning, the universe was created. This has made a lot of people very angry and been widely regarded as a bad move.\\nIt is said that if someone discovers exactly what the Universe is for and why it is here, it will instantly disappear and be replaced by something even more bizarr') had 1 occurrences\n",
      "merge 194/256: (448, 256) -> 449 (b'In the beginning, the universe was created. This has made a lot of people very angry and been widely regarded as a bad move.\\nIt is said that if someone discovers exactly what the Universe is for and why it is here, it will instantly disappear and be replaced by something even more bizarre ') had 1 occurrences\n",
      "merge 195/256: (449, 269) -> 450 (b'In the beginning, the universe was created. This has made a lot of people very angry and been widely regarded as a bad move.\\nIt is said that if someone discovers exactly what the Universe is for and why it is here, it will instantly disappear and be replaced by something even more bizarre and ') had 1 occurrences\n",
      "merge 196/256: (450, 265) -> 451 (b'In the beginning, the universe was created. This has made a lot of people very angry and been widely regarded as a bad move.\\nIt is said that if someone discovers exactly what the Universe is for and why it is here, it will instantly disappear and be replaced by something even more bizarre and in') had 1 occurrences\n",
      "merge 197/256: (451, 305) -> 452 (b'In the beginning, the universe was created. This has made a lot of people very angry and been widely regarded as a bad move.\\nIt is said that if someone discovers exactly what the Universe is for and why it is here, it will instantly disappear and be replaced by something even more bizarre and inex') had 1 occurrences\n",
      "merge 198/256: (452, 274) -> 453 (b'In the beginning, the universe was created. This has made a lot of people very angry and been widely regarded as a bad move.\\nIt is said that if someone discovers exactly what the Universe is for and why it is here, it will instantly disappear and be replaced by something even more bizarre and inexpl') had 1 occurrences\n",
      "merge 199/256: (453, 312) -> 454 (b'In the beginning, the universe was created. This has made a lot of people very angry and been widely regarded as a bad move.\\nIt is said that if someone discovers exactly what the Universe is for and why it is here, it will instantly disappear and be replaced by something even more bizarre and inexplic') had 1 occurrences\n",
      "merge 200/256: (454, 97) -> 455 (b'In the beginning, the universe was created. This has made a lot of people very angry and been widely regarded as a bad move.\\nIt is said that if someone discovers exactly what the Universe is for and why it is here, it will instantly disappear and be replaced by something even more bizarre and inexplica') had 1 occurrences\n",
      "merge 201/256: (455, 98) -> 456 (b'In the beginning, the universe was created. This has made a lot of people very angry and been widely regarded as a bad move.\\nIt is said that if someone discovers exactly what the Universe is for and why it is here, it will instantly disappear and be replaced by something even more bizarre and inexplicab') had 1 occurrences\n",
      "merge 202/256: (456, 108) -> 457 (b'In the beginning, the universe was created. This has made a lot of people very angry and been widely regarded as a bad move.\\nIt is said that if someone discovers exactly what the Universe is for and why it is here, it will instantly disappear and be replaced by something even more bizarre and inexplicabl') had 1 occurrences\n",
      "merge 203/256: (457, 298) -> 458 (b'In the beginning, the universe was created. This has made a lot of people very angry and been widely regarded as a bad move.\\nIt is said that if someone discovers exactly what the Universe is for and why it is here, it will instantly disappear and be replaced by something even more bizarre and inexplicable.\\n') had 1 occurrences\n",
      "merge 204/256: (458, 290) -> 459 (b'In the beginning, the universe was created. This has made a lot of people very angry and been widely regarded as a bad move.\\nIt is said that if someone discovers exactly what the Universe is for and why it is here, it will instantly disappear and be replaced by something even more bizarre and inexplicable.\\nTh') had 1 occurrences\n",
      "merge 205/256: (459, 261) -> 460 (b'In the beginning, the universe was created. This has made a lot of people very angry and been widely regarded as a bad move.\\nIt is said that if someone discovers exactly what the Universe is for and why it is here, it will instantly disappear and be replaced by something even more bizarre and inexplicable.\\nTher') had 1 occurrences\n",
      "merge 206/256: (460, 256) -> 461 (b'In the beginning, the universe was created. This has made a lot of people very angry and been widely regarded as a bad move.\\nIt is said that if someone discovers exactly what the Universe is for and why it is here, it will instantly disappear and be replaced by something even more bizarre and inexplicable.\\nThere ') had 1 occurrences\n",
      "merge 207/256: (461, 264) -> 462 (b'In the beginning, the universe was created. This has made a lot of people very angry and been widely regarded as a bad move.\\nIt is said that if someone discovers exactly what the Universe is for and why it is here, it will instantly disappear and be replaced by something even more bizarre and inexplicable.\\nThere is ') had 1 occurrences\n",
      "merge 208/256: (462, 263) -> 463 (b'In the beginning, the universe was created. This has made a lot of people very angry and been widely regarded as a bad move.\\nIt is said that if someone discovers exactly what the Universe is for and why it is here, it will instantly disappear and be replaced by something even more bizarre and inexplicable.\\nThere is an') had 1 occurrences\n",
      "merge 209/256: (463, 111) -> 464 (b'In the beginning, the universe was created. This has made a lot of people very angry and been widely regarded as a bad move.\\nIt is said that if someone discovers exactly what the Universe is for and why it is here, it will instantly disappear and be replaced by something even more bizarre and inexplicable.\\nThere is ano') had 1 occurrences\n",
      "merge 210/256: (464, 258) -> 465 (b'In the beginning, the universe was created. This has made a lot of people very angry and been widely regarded as a bad move.\\nIt is said that if someone discovers exactly what the Universe is for and why it is here, it will instantly disappear and be replaced by something even more bizarre and inexplicable.\\nThere is anoth') had 1 occurrences\n",
      "merge 211/256: (465, 261) -> 466 (b'In the beginning, the universe was created. This has made a lot of people very angry and been widely regarded as a bad move.\\nIt is said that if someone discovers exactly what the Universe is for and why it is here, it will instantly disappear and be replaced by something even more bizarre and inexplicable.\\nThere is another') had 1 occurrences\n",
      "merge 212/256: (466, 32) -> 467 (b'In the beginning, the universe was created. This has made a lot of people very angry and been widely regarded as a bad move.\\nIt is said that if someone discovers exactly what the Universe is for and why it is here, it will instantly disappear and be replaced by something even more bizarre and inexplicable.\\nThere is another ') had 1 occurrences\n",
      "merge 213/256: (467, 258) -> 468 (b'In the beginning, the universe was created. This has made a lot of people very angry and been widely regarded as a bad move.\\nIt is said that if someone discovers exactly what the Universe is for and why it is here, it will instantly disappear and be replaced by something even more bizarre and inexplicable.\\nThere is another th') had 1 occurrences\n",
      "merge 214/256: (468, 101) -> 469 (b'In the beginning, the universe was created. This has made a lot of people very angry and been widely regarded as a bad move.\\nIt is said that if someone discovers exactly what the Universe is for and why it is here, it will instantly disappear and be replaced by something even more bizarre and inexplicable.\\nThere is another the') had 1 occurrences\n",
      "merge 215/256: (469, 279) -> 470 (b'In the beginning, the universe was created. This has made a lot of people very angry and been widely regarded as a bad move.\\nIt is said that if someone discovers exactly what the Universe is for and why it is here, it will instantly disappear and be replaced by something even more bizarre and inexplicable.\\nThere is another theor') had 1 occurrences\n",
      "merge 216/256: (470, 259) -> 471 (b'In the beginning, the universe was created. This has made a lot of people very angry and been widely regarded as a bad move.\\nIt is said that if someone discovers exactly what the Universe is for and why it is here, it will instantly disappear and be replaced by something even more bizarre and inexplicable.\\nThere is another theory ') had 1 occurrences\n",
      "merge 217/256: (471, 278) -> 472 (b'In the beginning, the universe was created. This has made a lot of people very angry and been widely regarded as a bad move.\\nIt is said that if someone discovers exactly what the Universe is for and why it is here, it will instantly disappear and be replaced by something even more bizarre and inexplicable.\\nThere is another theory wh') had 1 occurrences\n",
      "merge 218/256: (472, 312) -> 473 (b'In the beginning, the universe was created. This has made a lot of people very angry and been widely regarded as a bad move.\\nIt is said that if someone discovers exactly what the Universe is for and why it is here, it will instantly disappear and be replaced by something even more bizarre and inexplicable.\\nThere is another theory whic') had 1 occurrences\n",
      "merge 219/256: (473, 104) -> 474 (b'In the beginning, the universe was created. This has made a lot of people very angry and been widely regarded as a bad move.\\nIt is said that if someone discovers exactly what the Universe is for and why it is here, it will instantly disappear and be replaced by something even more bizarre and inexplicable.\\nThere is another theory which') had 1 occurrences\n",
      "merge 220/256: (474, 32) -> 475 (b'In the beginning, the universe was created. This has made a lot of people very angry and been widely regarded as a bad move.\\nIt is said that if someone discovers exactly what the Universe is for and why it is here, it will instantly disappear and be replaced by something even more bizarre and inexplicable.\\nThere is another theory which ') had 1 occurrences\n",
      "merge 221/256: (475, 310) -> 476 (b'In the beginning, the universe was created. This has made a lot of people very angry and been widely regarded as a bad move.\\nIt is said that if someone discovers exactly what the Universe is for and why it is here, it will instantly disappear and be replaced by something even more bizarre and inexplicable.\\nThere is another theory which st') had 1 occurrences\n",
      "merge 222/256: (476, 97) -> 477 (b'In the beginning, the universe was created. This has made a lot of people very angry and been widely regarded as a bad move.\\nIt is said that if someone discovers exactly what the Universe is for and why it is here, it will instantly disappear and be replaced by something even more bizarre and inexplicable.\\nThere is another theory which sta') had 1 occurrences\n",
      "merge 223/256: (477, 288) -> 478 (b'In the beginning, the universe was created. This has made a lot of people very angry and been widely regarded as a bad move.\\nIt is said that if someone discovers exactly what the Universe is for and why it is here, it will instantly disappear and be replaced by something even more bizarre and inexplicable.\\nThere is another theory which state') had 1 occurrences\n",
      "merge 224/256: (478, 257) -> 479 (b'In the beginning, the universe was created. This has made a lot of people very angry and been widely regarded as a bad move.\\nIt is said that if someone discovers exactly what the Universe is for and why it is here, it will instantly disappear and be replaced by something even more bizarre and inexplicable.\\nThere is another theory which states ') had 1 occurrences\n",
      "merge 225/256: (479, 300) -> 480 (b'In the beginning, the universe was created. This has made a lot of people very angry and been widely regarded as a bad move.\\nIt is said that if someone discovers exactly what the Universe is for and why it is here, it will instantly disappear and be replaced by something even more bizarre and inexplicable.\\nThere is another theory which states that ') had 1 occurrences\n",
      "merge 226/256: (480, 258) -> 481 (b'In the beginning, the universe was created. This has made a lot of people very angry and been widely regarded as a bad move.\\nIt is said that if someone discovers exactly what the Universe is for and why it is here, it will instantly disappear and be replaced by something even more bizarre and inexplicable.\\nThere is another theory which states that th') had 1 occurrences\n",
      "merge 227/256: (481, 291) -> 482 (b'In the beginning, the universe was created. This has made a lot of people very angry and been widely regarded as a bad move.\\nIt is said that if someone discovers exactly what the Universe is for and why it is here, it will instantly disappear and be replaced by something even more bizarre and inexplicable.\\nThere is another theory which states that this has ') had 1 occurrences\n",
      "merge 228/256: (482, 97) -> 483 (b'In the beginning, the universe was created. This has made a lot of people very angry and been widely regarded as a bad move.\\nIt is said that if someone discovers exactly what the Universe is for and why it is here, it will instantly disappear and be replaced by something even more bizarre and inexplicable.\\nThere is another theory which states that this has a') had 1 occurrences\n",
      "merge 229/256: (483, 108) -> 484 (b'In the beginning, the universe was created. This has made a lot of people very angry and been widely regarded as a bad move.\\nIt is said that if someone discovers exactly what the Universe is for and why it is here, it will instantly disappear and be replaced by something even more bizarre and inexplicable.\\nThere is another theory which states that this has al') had 1 occurrences\n",
      "merge 230/256: (484, 287) -> 485 (b'In the beginning, the universe was created. This has made a lot of people very angry and been widely regarded as a bad move.\\nIt is said that if someone discovers exactly what the Universe is for and why it is here, it will instantly disappear and be replaced by something even more bizarre and inexplicable.\\nThere is another theory which states that this has alrea') had 1 occurrences\n",
      "merge 231/256: (485, 100) -> 486 (b'In the beginning, the universe was created. This has made a lot of people very angry and been widely regarded as a bad move.\\nIt is said that if someone discovers exactly what the Universe is for and why it is here, it will instantly disappear and be replaced by something even more bizarre and inexplicable.\\nThere is another theory which states that this has alread') had 1 occurrences\n",
      "merge 232/256: (486, 259) -> 487 (b'In the beginning, the universe was created. This has made a lot of people very angry and been widely regarded as a bad move.\\nIt is said that if someone discovers exactly what the Universe is for and why it is here, it will instantly disappear and be replaced by something even more bizarre and inexplicable.\\nThere is another theory which states that this has already ') had 1 occurrences\n",
      "merge 233/256: (487, 104) -> 488 (b'In the beginning, the universe was created. This has made a lot of people very angry and been widely regarded as a bad move.\\nIt is said that if someone discovers exactly what the Universe is for and why it is here, it will instantly disappear and be replaced by something even more bizarre and inexplicable.\\nThere is another theory which states that this has already h') had 1 occurrences\n",
      "merge 234/256: (488, 97) -> 489 (b'In the beginning, the universe was created. This has made a lot of people very angry and been widely regarded as a bad move.\\nIt is said that if someone discovers exactly what the Universe is for and why it is here, it will instantly disappear and be replaced by something even more bizarre and inexplicable.\\nThere is another theory which states that this has already ha') had 1 occurrences\n",
      "merge 235/256: (489, 311) -> 490 (b'In the beginning, the universe was created. This has made a lot of people very angry and been widely regarded as a bad move.\\nIt is said that if someone discovers exactly what the Universe is for and why it is here, it will instantly disappear and be replaced by something even more bizarre and inexplicable.\\nThere is another theory which states that this has already happe') had 1 occurrences\n",
      "merge 236/256: (490, 110) -> 491 (b'In the beginning, the universe was created. This has made a lot of people very angry and been widely regarded as a bad move.\\nIt is said that if someone discovers exactly what the Universe is for and why it is here, it will instantly disappear and be replaced by something even more bizarre and inexplicable.\\nThere is another theory which states that this has already happen') had 1 occurrences\n",
      "merge 237/256: (491, 101) -> 492 (b'In the beginning, the universe was created. This has made a lot of people very angry and been widely regarded as a bad move.\\nIt is said that if someone discovers exactly what the Universe is for and why it is here, it will instantly disappear and be replaced by something even more bizarre and inexplicable.\\nThere is another theory which states that this has already happene') had 1 occurrences\n",
      "merge 238/256: (492, 289) -> 493 (b'In the beginning, the universe was created. This has made a lot of people very angry and been widely regarded as a bad move.\\nIt is said that if someone discovers exactly what the Universe is for and why it is here, it will instantly disappear and be replaced by something even more bizarre and inexplicable.\\nThere is another theory which states that this has already happened.') had 1 occurrences\n"
     ]
    }
   ],
   "source": [
    "def train(text, vocab_size, verbose=False):\n",
    "    assert vocab_size >= 256  # We should do at least one merge...\n",
    "\n",
    "    vocab = {idx: bytes([idx]) for idx in range(256)}  # int -> bytes\n",
    "    num_merges = vocab_size - 256\n",
    "\n",
    "    # Input text preprocessing: encode text using UTF-8\n",
    "    text_bytes = text.encode(\"utf-8\")  # Raw bytes\n",
    "    ids = list(text_bytes)  # List of integers in range 0..255\n",
    "\n",
    "    # Iteratively merge the most common pairs to create new tokens\n",
    "    merges = {}  # (int, int) -> int\n",
    "    for i in range(num_merges):\n",
    "        # Count the number of times every consecutive pair appears\n",
    "        counts = get_pair_counts(ids)  # Use previously defined function\n",
    "\n",
    "        # Find the pair with the highest count\n",
    "        if not counts:\n",
    "            break  # Stop if no more pairs can be merged\n",
    "        pair = max(counts, key=counts.get)\n",
    "\n",
    "        # Use the next available id for the new token\n",
    "        idx = 256 + i\n",
    "\n",
    "        # Replace all occurrences of pair in ids with idx\n",
    "        ids = merge(ids, pair, idx)\n",
    "\n",
    "        # Save the merge\n",
    "        merges[pair] = idx\n",
    "        vocab[idx] = vocab[pair[0]] + vocab[pair[1]]  # Update vocabulary\n",
    "\n",
    "        # Print progress if verbose mode is enabled\n",
    "        if verbose:\n",
    "            print(f\"merge {i+1}/{num_merges}: {pair} -> {idx} ({vocab[idx]}) had {counts[pair]} occurrences\")\n",
    "\n",
    "    return merges, vocab  # Return the merges and vocabulary\n",
    "\n",
    "\n",
    "# Load a longer text (for example, from a book)\n",
    "text = \"\"\"In the beginning, the universe was created. This has made a lot of people very angry and been widely regarded as a bad move.\n",
    "It is said that if someone discovers exactly what the Universe is for and why it is here, it will instantly disappear and be replaced by something even more bizarre and inexplicable.\n",
    "There is another theory which states that this has already happened.\"\"\"\n",
    "\n",
    "# Train the tokenizer with a vocabulary size of 512\n",
    "vocab_size = 512\n",
    "merges, vocab = train(text, vocab_size, verbose=True)\n"
   ]
  },
  {
   "cell_type": "markdown",
   "id": "af8f6320",
   "metadata": {},
   "source": [
    "## Encode\n",
    "\n",
    "The `encode` function will convert a text into a sequence of tokens, based on the merges imposed by the tokenizer."
   ]
  },
  {
   "cell_type": "code",
   "execution_count": 14,
   "id": "20ac3415",
   "metadata": {},
   "outputs": [],
   "source": [
    "def encode(text):\n",
    "    # given a string text, return the token ids\n",
    "    text_bytes = text.encode(\"utf-8\") # raw bytes\n",
    "    ids = list(text_bytes) # list of integers in range 0..255\n",
    "    while len(ids) >= 2:\n",
    "        # find the pair with the lowest merge index\n",
    "        counts = get_pair_counts(ids)   # note that here we don't really care about the counts, we just need the observed pairs\n",
    "        pair = min(counts.keys(), key=lambda p: merges.get(p, float(\"inf\")))\n",
    "        # subtle: if there are no more merges available, the key will\n",
    "        # result in an inf for every single pair, and the min will be\n",
    "        # just the first pair in the list, arbitrarily\n",
    "        # we can detect this terminating case by a membership check\n",
    "        if pair not in merges:\n",
    "            break # nothing else can be merged anymore\n",
    "        # otherwise let's merge the best pair (lowest merge index)\n",
    "        idx = merges[pair]\n",
    "        ids = merge(ids, pair, idx)\n",
    "    \n",
    "    return ids"
   ]
  },
  {
   "cell_type": "markdown",
   "id": "cd769709",
   "metadata": {},
   "source": [
    "Try encoding some piece of text. Compare the number of tokens obtained with the length of the text (or, more precisely, its UTF-8 encoding). This can be seen as a compression ratio (the original version of the [BPE algorithm](https://en.wikipedia.org/wiki/Byte_pair_encoding) focused on compression).\n",
    "You can also compare the number of tokens with the number of words (e.g., as provided by NLTK's word tokenizer)."
   ]
  },
  {
   "cell_type": "code",
   "execution_count": null,
   "id": "d98211cc",
   "metadata": {},
   "outputs": [],
   "source": [
    "# your code here\n"
   ]
  },
  {
   "cell_type": "markdown",
   "id": "26be28eb",
   "metadata": {},
   "source": [
    "Print individually the textual entry in the vocabulary corresponding to each of the first 25 tokens."
   ]
  },
  {
   "cell_type": "code",
   "execution_count": null,
   "id": "c37902f1",
   "metadata": {},
   "outputs": [],
   "source": [
    "# your code here\n"
   ]
  },
  {
   "cell_type": "markdown",
   "id": "f3fb4350",
   "metadata": {},
   "source": [
    "## Decode\n",
    "\n",
    "The `decode` function will convert sequence of tokens back to text, based on the tokenizer's vocabulary."
   ]
  },
  {
   "cell_type": "code",
   "execution_count": null,
   "id": "28929ef8",
   "metadata": {},
   "outputs": [],
   "source": [
    "def decode(ids):\n",
    "    # given ids (list of integers), return Python string\n",
    "    text_bytes = b\"\".join(vocab[idx] for idx in ids)\n",
    "    text = text_bytes.decode(\"utf-8\", errors=\"replace\")\n",
    "    return text"
   ]
  },
  {
   "cell_type": "markdown",
   "id": "9d4fa668",
   "metadata": {},
   "source": [
    "Decode back the text you used in the previous step. Check that you get back the original text."
   ]
  },
  {
   "cell_type": "code",
   "execution_count": null,
   "id": "45bce9c2",
   "metadata": {},
   "outputs": [],
   "source": [
    "# your code here\n"
   ]
  }
 ],
 "metadata": {
  "kernelspec": {
   "display_name": "Python 3 (ipykernel)",
   "language": "python",
   "name": "python3"
  },
  "language_info": {
   "codemirror_mode": {
    "name": "ipython",
    "version": 3
   },
   "file_extension": ".py",
   "mimetype": "text/x-python",
   "name": "python",
   "nbconvert_exporter": "python",
   "pygments_lexer": "ipython3",
   "version": "3.11.6"
  }
 },
 "nbformat": 4,
 "nbformat_minor": 5
}
